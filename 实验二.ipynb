{
 "cells": [
  {
   "cell_type": "markdown",
   "metadata": {},
   "source": [
    "# 实验二 车标的定位和识别"
   ]
  },
  {
   "cell_type": "markdown",
   "metadata": {},
   "source": [
    "## 1. 实验任务"
   ]
  },
  {
   "cell_type": "markdown",
   "metadata": {},
   "source": [
    "- 假设车牌位置已知，基于车牌位置，如何进行车标的粗略定位？\n",
    "- 提取车标区域的特征，进行特征匹配，以识别出该车辆属于哪个品牌。"
   ]
  },
  {
   "cell_type": "markdown",
   "metadata": {},
   "source": [
    "## 2. 实验内容"
   ]
  },
  {
   "cell_type": "markdown",
   "metadata": {},
   "source": [
    "### 2.1 数据预处理及探索性数据分析"
   ]
  },
  {
   "cell_type": "code",
   "execution_count": 1,
   "metadata": {
    "collapsed": true
   },
   "outputs": [],
   "source": [
    "import numpy as np\n",
    "import pandas as pd\n",
    "import matplotlib.pyplot as plt\n",
    "import collections\n",
    "import os\n",
    "import gc\n",
    "import cv2\n",
    "import torch\n",
    "from torch.autograd import Variable\n",
    "import torch.nn as nn\n",
    "from tensorboardX import SummaryWriter\n",
    "import torch.utils.data as data\n",
    "# %matplotlib inline"
   ]
  },
  {
   "cell_type": "code",
   "execution_count": 2,
   "metadata": {
    "collapsed": true
   },
   "outputs": [],
   "source": [
    "data_path = './VehicleLogo_Dataset/'\n",
    "X = []\n",
    "y = []\n",
    "for img_path in os.listdir(data_path):\n",
    "#     gray = cv2.cvtColor(cv2.imread(data_path + img_path), cv2.COLOR_RGB2GRAY).ravel()\n",
    "    gray = cv2.cvtColor(cv2.imread(data_path + img_path), cv2.COLOR_RGB2GRAY)\n",
    "    X.append(gray)\n",
    "    y.append(int(img_path.split('_')[0]))\n",
    "# X = np.asarray(X)\n",
    "# y = np.asarray(y)"
   ]
  },
  {
   "cell_type": "code",
   "execution_count": 4,
   "metadata": {},
   "outputs": [
    {
     "data": {
      "text/plain": [
       "11500"
      ]
     },
     "execution_count": 4,
     "metadata": {},
     "output_type": "execute_result"
    }
   ],
   "source": [
    "len(y)"
   ]
  },
  {
   "cell_type": "markdown",
   "metadata": {},
   "source": [
    "每张图片的大小为70 $\\times$ 70，也就是说每张图片有4900个特征"
   ]
  },
  {
   "cell_type": "markdown",
   "metadata": {},
   "source": [
    "为了训练，要确保数据集是平衡的。接下来就检查每个类别有多少数据"
   ]
  },
  {
   "cell_type": "code",
   "execution_count": 5,
   "metadata": {},
   "outputs": [
    {
     "data": {
      "image/png": "[encoded data removed]",
      "text/plain": [
       "<matplotlib.figure.Figure at 0x1f3d2ba01d0>"
      ]
     },
     "metadata": {},
     "output_type": "display_data"
    },
    {
     "name": "stdout",
     "output_type": "stream",
     "text": [
      "Counter({10: 1150, 1: 1150, 2: 1150, 3: 1150, 4: 1150, 5: 1150, 6: 1150, 7: 1150, 8: 1150, 9: 1150})\n"
     ]
    }
   ],
   "source": [
    "plt.figure(figsize=(8, 6))\n",
    "plt.xlabel('class')\n",
    "plt.ylabel('# samples')\n",
    "plt.grid('on')\n",
    "cm = plt.cm.get_cmap('RdYlBu_r')\n",
    "counter = collections.Counter(y)\n",
    "stat_x, stat_y = [], []\n",
    "for key, val in dict(counter).items():\n",
    "    stat_x.append(key)\n",
    "    stat_y.append(val)\n",
    "\n",
    "n, bins, patches = plt.hist(stat_x, 25, normed=1, color='green')\n",
    "bin_centers = 0.5 * (bins[:-1] + bins[1:])\n",
    "\n",
    "# scale values to interval [0,1]\n",
    "col = bin_centers - min(bin_centers)\n",
    "col /= max(col)\n",
    "\n",
    "for c, p in zip(col+.1, patches):\n",
    "    plt.setp(p, 'facecolor', cm(c))\n",
    "plt.savefig('EDA.png')\n",
    "plt.show()\n",
    "print(counter)"
   ]
  },
  {
   "cell_type": "markdown",
   "metadata": {},
   "source": [
    "数据集是平衡的，我们可以直接将数据集分割后开始设计算法"
   ]
  },
  {
   "cell_type": "code",
   "execution_count": 3,
   "metadata": {
    "collapsed": true
   },
   "outputs": [],
   "source": [
    "from sklearn.model_selection import train_test_split\n",
    "seed = 3\n",
    "X_train, X_test, y_train, y_test = train_test_split(X, y, test_size=0.3, random_state=seed)"
   ]
  },
  {
   "cell_type": "code",
   "execution_count": 4,
   "metadata": {
    "collapsed": true
   },
   "outputs": [],
   "source": [
    "X_train = np.asarray([np.expand_dims(x, axis=0) for x in X_train])\n",
    "X_test = np.asarray([np.expand_dims(x, axis=0) for x in X_test])\n",
    "## 适应后面的pytorch训练过程中的Cross Entropy Loss\n",
    "y_train = np.array(y_train).reshape(-1, 1) - 1\n",
    "y_test = np.array(y_test).reshape(-1, 1) - 1"
   ]
  },
  {
   "cell_type": "code",
   "execution_count": 145,
   "metadata": {},
   "outputs": [
    {
     "name": "stdout",
     "output_type": "stream",
     "text": [
      "8050 3450 8050 3450\n"
     ]
    }
   ],
   "source": [
    "print(len(X_train), len(X_test), len(y_train), len(y_test))"
   ]
  },
  {
   "cell_type": "markdown",
   "metadata": {},
   "source": [
    "### 2.2 使用RandomForest进行分类"
   ]
  },
  {
   "cell_type": "code",
   "execution_count": 11,
   "metadata": {},
   "outputs": [
    {
     "name": "stdout",
     "output_type": "stream",
     "text": [
      "             precision    recall  f1-score   support\n",
      "\n",
      "          1     0.9757    0.9469    0.9611       339\n",
      "          2     0.9670    0.8567    0.9085       342\n",
      "          3     0.9942    0.9744    0.9842       351\n",
      "          4     0.9944    0.9416    0.9673       377\n",
      "          5     0.9969    0.9444    0.9700       342\n",
      "          6     0.8304    0.9542    0.8880       349\n",
      "          7     0.9968    0.9813    0.9890       321\n",
      "          8     0.9554    0.9885    0.9717       347\n",
      "          9     0.9156    0.9830    0.9481       353\n",
      "         10     0.9467    0.9726    0.9595       329\n",
      "\n",
      "avg / total     0.9572    0.9542    0.9546      3450\n",
      "\n"
     ]
    }
   ],
   "source": [
    "from sklearn.ensemble import RandomForestClassifier\n",
    "from sklearn.metrics import classification_report\n",
    "rf = RandomForestClassifier(n_estimators=300, max_depth=10, max_features=10)\n",
    "rf.fit(X_train, y_train)\n",
    "y_pred = rf.predict(X_test)\n",
    "print(classification_report(y_test, y_pred, digits=4))"
   ]
  },
  {
   "cell_type": "markdown",
   "metadata": {},
   "source": [
    "### 2.3 Convolutional Neural Network"
   ]
  },
  {
   "cell_type": "markdown",
   "metadata": {},
   "source": [
    "#### 2.3.1 训练"
   ]
  },
  {
   "cell_type": "code",
   "execution_count": 5,
   "metadata": {},
   "outputs": [
    {
     "name": "stdout",
     "output_type": "stream",
     "text": [
      "8050\n"
     ]
    }
   ],
   "source": [
    "## 构造数据集\n",
    "class MyDataset(data.Dataset):\n",
    "    def __init__(self, X, y):\n",
    "        self.X = X\n",
    "        self.y = y\n",
    "    \n",
    "    def __len__(self):\n",
    "        return len(self.y)\n",
    "    \n",
    "    def __getitem__(self, index):\n",
    "        return torch.FloatTensor(self.X[index]), torch.LongTensor(self.y[index])\n",
    "\n",
    "dataset = MyDataset(X_train, y_train)\n",
    "print(len(dataset))\n",
    "data_loader = data.DataLoader(dataset, batch_size=8, shuffle=True)"
   ]
  },
  {
   "cell_type": "code",
   "execution_count": 7,
   "metadata": {
    "collapsed": true
   },
   "outputs": [],
   "source": [
    "class CNN(nn.Module):\n",
    "    def __init__(self, num_classes=10):\n",
    "        super(CNN, self).__init__()\n",
    "        self.layer1 = nn.Sequential(\n",
    "            nn.Conv2d(1, 16, kernel_size=3, stride=1, padding=1),\n",
    "            nn.BatchNorm2d(16),\n",
    "            nn.ReLU(),\n",
    "            nn.MaxPool2d(kernel_size=2, stride=2))\n",
    "        self.layer2 = nn.Sequential(\n",
    "            nn.Conv2d(16, 32, kernel_size=3, stride=1, padding=1),\n",
    "            nn.BatchNorm2d(32),\n",
    "            nn.ReLU(),\n",
    "            nn.MaxPool2d(kernel_size=2, stride=2))\n",
    "        self.fc1 = nn.Linear(9248, num_classes)\n",
    "#         self.fc2 = nn.Linear(500, num_classes)\n",
    "        \n",
    "    def forward(self, x):\n",
    "        out = self.layer1(x)\n",
    "        out = self.layer2(out)\n",
    "        out = out.view(out.size(0), -1)\n",
    "        out = self.fc1(out)\n",
    "#         out = self.fc2(out)\n",
    "        return out\n",
    "    \n",
    "def train(model, dataloader, lr, criterion, optimizer, max_iter):\n",
    "    Loss = []\n",
    "    \n",
    "    loss = None\n",
    "    writer = SummaryWriter('log_5_29')\n",
    "    for epoch in range(max_iter):\n",
    "        print('Training epoch {}'.format(epoch))\n",
    "        for i, iter_data in enumerate(data_loader):\n",
    "            X_train, y_train = iter_data\n",
    "#             print(X_train.size(), y_train.size())\n",
    "            optimizer.zero_grad()\n",
    "            output = model(Variable(X_train))\n",
    "            loss = criterion(output, Variable(y_train.squeeze()))\n",
    "            loss.backward()\n",
    "            optimizer.step()\n",
    "            Loss.append(loss.data[0])\n",
    "            if i % 20 == 0:\n",
    "                print('\\r\\t Training batch {}\\t loss: {:>10}'.format(i, loss.data[0]), end='')\n",
    "                writer.add_scalar('Train/loss', loss.data[0], i*(epoch+1))\n",
    "        writer.add_scalar('Train/loss_epoch', loss.data[0], epoch)\n",
    "        writer.add_histogram('Train/fc1_weights', model.fc1.weight.data, i*(epoch+1))\n",
    "#         writer.add_histogram('Train/fc2_weights', model.fc2.weight.data, i*(epoch+1))\n",
    "        print()\n",
    "    writer.close()\n",
    "    return Loss, model"
   ]
  },
  {
   "cell_type": "code",
   "execution_count": 8,
   "metadata": {
    "scrolled": true
   },
   "outputs": [
    {
     "name": "stdout",
     "output_type": "stream",
     "text": [
      "Training epoch 0\n",
      "\t Training batch 1000\t loss: 0.097040705382823945\n",
      "Training epoch 1\n",
      "\t Training batch 1000\t loss: 0.3016302883625030586\n",
      "Training epoch 2\n",
      "\t Training batch 1000\t loss: 0.2684373855590820324\n",
      "Training epoch 3\n",
      "\t Training batch 1000\t loss: 0.00022919637558516115\n",
      "Training epoch 4\n",
      "\t Training batch 1000\t loss: 0.0002514057850930847\n"
     ]
    },
    {
     "name": "stderr",
     "output_type": "stream",
     "text": [
      "D:\\Anaconda3_501\\lib\\site-packages\\torch\\serialization.py:158: UserWarning: Couldn't retrieve source code for container of type CNN. It won't be checked for correctness upon loading.\n",
      "  \"type \" + obj.__name__ + \". It won't be checked \"\n"
     ]
    }
   ],
   "source": [
    "lr = 1e-3\n",
    "cnn = CNN()\n",
    "criterion = nn.CrossEntropyLoss()\n",
    "optimizer = torch.optim.Adam(cnn.parameters(), lr=lr)\n",
    "Loss, cnn = train(cnn, data_loader, lr, criterion, optimizer, 5)\n",
    "torch.save(cnn, 'CNN_checkpoint/cnn_5_25.pkl')"
   ]
  },
  {
   "cell_type": "code",
   "execution_count": 16,
   "metadata": {},
   "outputs": [],
   "source": [
    "# loss = [l.data[0] for l in Loss]\n",
    "plt.figure(figsize=(10, 8))\n",
    "plt.title('Training loss')\n",
    "plt.axis('on')\n",
    "plt.xlabel('#iteration')\n",
    "plt.ylabel('Loss')\n",
    "plt.plot(Loss)\n",
    "plt.savefig('Loss.png')"
   ]
  },
  {
   "cell_type": "code",
   "execution_count": 17,
   "metadata": {},
   "outputs": [
    {
     "data": {
      "image/png": "[encoded data removed]",
      "text/plain": [
       "<matplotlib.figure.Figure at 0x18e74631c18>"
      ]
     },
     "metadata": {},
     "output_type": "display_data"
    }
   ],
   "source": [
    "plt.show()"
   ]
  },
  {
   "cell_type": "markdown",
   "metadata": {},
   "source": [
    "#### 2.3.2 测试"
   ]
  },
  {
   "cell_type": "code",
   "execution_count": 9,
   "metadata": {
    "collapsed": true
   },
   "outputs": [],
   "source": [
    "cnn.eval()\n",
    "test_loader = data.DataLoader(MyDataset(X_test, y_test), batch_size=8, shuffle=False)\n",
    "# eval_loss = 0.\n",
    "# eval_acc = 0.\n",
    "# correct = 0\n",
    "# total = 0\n",
    "y_preds = []\n",
    "for batch_X, batch_y in test_loader:\n",
    "    batch_X, batch_y = Variable(batch_X, volatile=True), Variable(batch_y.squeeze(), volatile=True)\n",
    "    output = cnn(batch_X)\n",
    "    _, pred = torch.max(output, 1)\n",
    "#     total += batch_y.size(0)\n",
    "#     correct += (pred == batch_y).sum()\n",
    "    y_preds += pred.data.numpy().tolist()"
   ]
  },
  {
   "cell_type": "code",
   "execution_count": 10,
   "metadata": {},
   "outputs": [
    {
     "name": "stdout",
     "output_type": "stream",
     "text": [
      "             precision    recall  f1-score   support\n",
      "\n",
      "          0     0.9882    0.9853    0.9867       340\n",
      "          1     0.9971    0.9688    0.9827       352\n",
      "          2     0.9972    1.0000    0.9986       350\n",
      "          3     0.9735    1.0000    0.9866       367\n",
      "          4     0.9825    0.9600    0.9711       350\n",
      "          5     0.9857    1.0000    0.9928       344\n",
      "          6     0.9938    0.9907    0.9922       322\n",
      "          7     1.0000    0.9914    0.9957       350\n",
      "          8     0.9688    0.9828    0.9757       348\n",
      "          9     0.9848    0.9908    0.9878       327\n",
      "\n",
      "avg / total     0.9871    0.9870    0.9869      3450\n",
      "\n"
     ]
    }
   ],
   "source": [
    "from sklearn.metrics import classification_report\n",
    "print(classification_report(y_preds, y_test, digits=4))\n",
    "# print(100 * correct / total)"
   ]
  },
  {
   "cell_type": "markdown",
   "metadata": {},
   "source": [
    "#### 2.3.3 可视化"
   ]
  },
  {
   "cell_type": "markdown",
   "metadata": {
    "collapsed": true
   },
   "source": [
    "可视化神经网络的卷积核"
   ]
  },
  {
   "cell_type": "code",
   "execution_count": 16,
   "metadata": {},
   "outputs": [
    {
     "data": {
      "text/plain": [
       "Variable containing:\n",
       "(0 ,.,.) = \n",
       "  0.0230  0.3064  0.3893\n",
       " -0.2546 -0.2724  0.1008\n",
       " -0.1751  0.0396 -0.0990\n",
       "[torch.FloatTensor of size 1x3x3]"
      ]
     },
     "execution_count": 16,
     "metadata": {},
     "output_type": "execute_result"
    }
   ],
   "source": [
    "list(cnn.layer1[0].parameters())[0][0]"
   ]
  },
  {
   "cell_type": "code",
   "execution_count": null,
   "metadata": {
    "collapsed": true
   },
   "outputs": [],
   "source": []
  }
 ],
 "metadata": {
  "kernelspec": {
   "display_name": "Python 3",
   "language": "python",
   "name": "python3"
  },
  "language_info": {
   "codemirror_mode": {
    "name": "ipython",
    "version": 3
   },
   "file_extension": ".py",
   "mimetype": "text/x-python",
   "name": "python",
   "nbconvert_exporter": "python",
   "pygments_lexer": "ipython3",
   "version": "3.6.3"
  }
 },
 "nbformat": 4,
 "nbformat_minor": 2
}
